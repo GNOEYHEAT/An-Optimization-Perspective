{
 "cells": [
  {
   "cell_type": "code",
   "execution_count": 1,
   "metadata": {},
   "outputs": [],
   "source": [
    "import numpy as np\n",
    "from gurobipy import *\n",
    "import random\n",
    "import matplotlib.pyplot as plot\n",
    "import csv"
   ]
  },
  {
   "cell_type": "code",
   "execution_count": 2,
   "metadata": {},
   "outputs": [],
   "source": [
    "data=[]\n",
    "\n",
    "data = np.loadtxt('C:/Users/user/test/data/processed.cleveland.data',delimiter=',',dtype=str)"
   ]
  },
  {
   "cell_type": "code",
   "execution_count": 3,
   "metadata": {},
   "outputs": [],
   "source": [
    "L=len(data)\n",
    "l=len(data[0])-1\n",
    "cn = len(np.unique(list(zip(*data))[l]))\n",
    "x=[]\n",
    "for i in range(L):\n",
    "    x.append(i)\n",
    "    for j in range(l):\n",
    "        if data[i,j]=='?':\n",
    "            x.remove(i)\n",
    "data = data[x]\n",
    "data = data.astype('float64')\n",
    "ci=2 # class identifier\n",
    "smallnum=1.e-3\n",
    "bignum=1.e+3\n",
    "\n",
    "L=len(data)\n",
    "l = len(data[0])-1\n",
    "#data1 = np.c_[data,np.zeros(L)]\n",
    "\n",
    "np.random.shuffle(data)"
   ]
  },
  {
   "cell_type": "code",
   "execution_count": 4,
   "metadata": {},
   "outputs": [],
   "source": [
    "train=data[:int((len(data)+1)*.80)]\n",
    "test=data[int(len(data)*.80+1):]"
   ]
  },
  {
   "cell_type": "code",
   "execution_count": 5,
   "metadata": {},
   "outputs": [
    {
     "data": {
      "text/plain": [
       "238"
      ]
     },
     "execution_count": 5,
     "metadata": {},
     "output_type": "execute_result"
    }
   ],
   "source": [
    "len(train)"
   ]
  },
  {
   "cell_type": "code",
   "execution_count": 6,
   "metadata": {},
   "outputs": [
    {
     "data": {
      "text/plain": [
       "297"
      ]
     },
     "execution_count": 6,
     "metadata": {},
     "output_type": "execute_result"
    }
   ],
   "source": [
    "len(data)"
   ]
  },
  {
   "cell_type": "code",
   "execution_count": 7,
   "metadata": {},
   "outputs": [],
   "source": [
    "Atrain=list()\n",
    "Btrain=list()\n",
    "Atest=list()\n",
    "Btest=list()"
   ]
  },
  {
   "cell_type": "code",
   "execution_count": 8,
   "metadata": {},
   "outputs": [],
   "source": [
    "for i in range(len(train)):\n",
    "    if train[i,-1] == 0:\n",
    "        Atrain.append(train[i])\n",
    "    else :\n",
    "        Btrain.append(train[i])\n",
    "\n",
    "Atrain=np.array(Atrain)\n",
    "Btrain=np.array(Btrain)\n",
    "\n",
    "lA = len(Atrain)\n",
    "lB = len(Btrain)"
   ]
  },
  {
   "cell_type": "code",
   "execution_count": 9,
   "metadata": {},
   "outputs": [
    {
     "name": "stdout",
     "output_type": "stream",
     "text": [
      "Academic license - for non-commercial use only\n"
     ]
    }
   ],
   "source": [
    "m=Model()\n",
    "w=[]\n",
    "y=[]\n",
    "z=[]"
   ]
  },
  {
   "cell_type": "code",
   "execution_count": 10,
   "metadata": {},
   "outputs": [],
   "source": [
    "r=m.addVar(vtype=GRB.CONTINUOUS, name='r')\n",
    "\n",
    "for i in range(lA):\n",
    "    y.append(m.addVar(vtype=GRB.CONTINUOUS, name=\"y[{}]\".format(i),lb=0))\n",
    "    \n",
    "for i in range(lB):\n",
    "    z.append(m.addVar(vtype=GRB.CONTINUOUS, name=\"z[{}]\".format(i),lb=0))\n",
    "    \n",
    "for i in range(l):\n",
    "    w.append(m.addVar(vtype=GRB.CONTINUOUS, name=\"w[{}]\".format(i),lb=-100,ub=100))\n",
    "\n",
    "m.update()"
   ]
  },
  {
   "cell_type": "code",
   "execution_count": 11,
   "metadata": {},
   "outputs": [],
   "source": [
    "Y=sum(y[i] for i in range(lA))\n",
    "Z=sum(z[i] for i in range(lB))\n",
    "\n",
    "m.setObjective(Y/lA + Z/lB , GRB.MINIMIZE)\n",
    "m.update()"
   ]
  },
  {
   "cell_type": "code",
   "execution_count": 12,
   "metadata": {},
   "outputs": [
    {
     "name": "stdout",
     "output_type": "stream",
     "text": [
      "Optimize a model with 238 rows, 252 columns and 2791 nonzeros\n",
      "Coefficient statistics:\n",
      "  Matrix range     [1e-01, 6e+02]\n",
      "  Objective range  [8e-03, 9e-03]\n",
      "  Bounds range     [1e+02, 1e+02]\n",
      "  RHS range        [1e-03, 1e-03]\n",
      "Presolve time: 0.01s\n",
      "Presolved: 238 rows, 252 columns, 2791 nonzeros\n",
      "\n",
      "Iteration    Objective       Primal Inf.    Dual Inf.      Time\n",
      "       0    0.0000000e+00   2.419444e+05   0.000000e+00      0s\n",
      "     188    7.3461759e-04   0.000000e+00   0.000000e+00      0s\n",
      "\n",
      "Solved in 188 iterations and 0.02 seconds\n",
      "Optimal objective  7.346175862e-04\n"
     ]
    }
   ],
   "source": [
    "for i in range(lA):\n",
    "    m.addConstr(sum(Atrain[i,j]*w[j] for j in range(l))-r+y[i] >=smallnum, name = \"cty[{}]\".format(i))\n",
    "m.update()\n",
    "for i in range(lB):\n",
    "    m.addConstr(sum(Btrain[i,j]*w[j] for j in range(l))-r-z[i] <=-smallnum, name = \"ctz[{}]\".format(i))\n",
    "m.update()\n",
    "\n",
    "m.optimize()"
   ]
  },
  {
   "cell_type": "code",
   "execution_count": 13,
   "metadata": {},
   "outputs": [],
   "source": [
    "for i in range(len(test)):\n",
    "    if test[i,-1]==0:\n",
    "        Atest.append(test[i])\n",
    "    else : \n",
    "        Btest.append(test[i])\n",
    "\n",
    "Atest = np.array(Atest)\n",
    "Btest = np.array(Btest)\n",
    "\n",
    "fail = 0\n",
    "for i in range(len(Atest)):\n",
    "    if(sum(Atest[i,j]*w[j].x for j in range(l))<r.x):\n",
    "        fail +=1\n",
    "\n",
    "for i in range(len(Btest)):\n",
    "    if(sum(Btest[i,j]*w[j].x for j in range(l))>r.x):\n",
    "        fail+=1"
   ]
  },
  {
   "cell_type": "code",
   "execution_count": 14,
   "metadata": {},
   "outputs": [
    {
     "name": "stdout",
     "output_type": "stream",
     "text": [
      "84.7457627118644\n"
     ]
    }
   ],
   "source": [
    "success_rate = (len(test)-fail)*100/len(test)\n",
    "print(success_rate)"
   ]
  },
  {
   "cell_type": "code",
   "execution_count": 15,
   "metadata": {},
   "outputs": [
    {
     "name": "stdout",
     "output_type": "stream",
     "text": [
      "Optimize a model with 238 rows, 252 columns and 2791 nonzeros\n",
      "Coefficient statistics:\n",
      "  Matrix range     [1e-01, 6e+02]\n",
      "  Objective range  [5e-03, 2e-02]\n",
      "  Bounds range     [1e+02, 1e+02]\n",
      "  RHS range        [1e-03, 1e-03]\n",
      "Presolve time: 0.01s\n",
      "Presolved: 238 rows, 252 columns, 2791 nonzeros\n",
      "\n",
      "Iteration    Objective       Primal Inf.    Dual Inf.      Time\n",
      "       0    0.0000000e+00   8.242688e+04   0.000000e+00      0s\n",
      "     277    1.4664307e-03   0.000000e+00   0.000000e+00      0s\n",
      "\n",
      "Solved in 277 iterations and 0.03 seconds\n",
      "Optimal objective  1.466430689e-03\n",
      "62.71186440677966\n"
     ]
    }
   ],
   "source": [
    "Atrain=list()\n",
    "Btrain=list()\n",
    "Atest=list()\n",
    "Btest=list()\n",
    "\n",
    "for i in range(len(train)):\n",
    "    if train[i,-1] == 1:\n",
    "        Atrain.append(train[i])\n",
    "    else :\n",
    "        Btrain.append(train[i])\n",
    "\n",
    "Atrain=np.array(Atrain)\n",
    "Btrain=np.array(Btrain)\n",
    "\n",
    "lA = len(Atrain)\n",
    "lB = len(Btrain)\n",
    "\n",
    "m=Model()\n",
    "w=[]\n",
    "y=[]\n",
    "z=[]\n",
    "\n",
    "r=m.addVar(vtype=GRB.CONTINUOUS, name='r')\n",
    "\n",
    "for i in range(lA):\n",
    "    y.append(m.addVar(vtype=GRB.CONTINUOUS, name=\"y[{}]\".format(i),lb=0))\n",
    "    \n",
    "for i in range(lB):\n",
    "    z.append(m.addVar(vtype=GRB.CONTINUOUS, name=\"z[{}]\".format(i),lb=0))\n",
    "    \n",
    "for i in range(l):\n",
    "    w.append(m.addVar(vtype=GRB.CONTINUOUS, name=\"w[{}]\".format(i),lb=-100,ub=100))\n",
    "\n",
    "m.update()\n",
    "\n",
    "Y=sum(y[i] for i in range(lA))\n",
    "Z=sum(z[i] for i in range(lB))\n",
    "\n",
    "m.setObjective(Y/lA + Z/lB , GRB.MINIMIZE)\n",
    "m.update()\n",
    "\n",
    "for i in range(lA):\n",
    "    m.addConstr(sum(Atrain[i,j]*w[j] for j in range(l))-r+y[i] >=smallnum, name = \"cty[{}]\".format(i))\n",
    "m.update()\n",
    "for i in range(lB):\n",
    "    m.addConstr(sum(Btrain[i,j]*w[j] for j in range(l))-r-z[i] <=-smallnum, name = \"ctz[{}]\".format(i))\n",
    "m.update()\n",
    "\n",
    "m.optimize()\n",
    "\n",
    "for i in range(len(test)):\n",
    "    if test[i,-1]==1:\n",
    "        Atest.append(test[i])\n",
    "    else : \n",
    "        Btest.append(test[i])\n",
    "\n",
    "Atest = np.array(Atest)\n",
    "Btest = np.array(Btest)\n",
    "\n",
    "fail = 0\n",
    "for i in range(len(Atest)):\n",
    "    if(sum(Atest[i,j]*w[j].x for j in range(l))<r.x):\n",
    "        fail +=1\n",
    "\n",
    "for i in range(len(Btest)):\n",
    "    if(sum(Btest[i,j]*w[j].x for j in range(l))>r.x):\n",
    "        fail+=1\n",
    "        \n",
    "success_rate = (len(test)-fail)*100/len(test)\n",
    "print(success_rate)"
   ]
  },
  {
   "cell_type": "code",
   "execution_count": 16,
   "metadata": {},
   "outputs": [
    {
     "name": "stdout",
     "output_type": "stream",
     "text": [
      "Optimize a model with 238 rows, 252 columns and 2791 nonzeros\n",
      "Coefficient statistics:\n",
      "  Matrix range     [1e-01, 6e+02]\n",
      "  Objective range  [5e-03, 3e-02]\n",
      "  Bounds range     [1e+02, 1e+02]\n",
      "  RHS range        [1e-03, 1e-03]\n",
      "Presolve time: 0.01s\n",
      "Presolved: 238 rows, 252 columns, 2791 nonzeros\n",
      "\n",
      "Iteration    Objective       Primal Inf.    Dual Inf.      Time\n",
      "       0    0.0000000e+00   5.500844e+04   0.000000e+00      0s\n",
      "     196    8.9700162e-04   0.000000e+00   0.000000e+00      0s\n",
      "\n",
      "Solved in 196 iterations and 0.03 seconds\n",
      "Optimal objective  8.970016167e-04\n",
      "66.10169491525424\n"
     ]
    }
   ],
   "source": [
    "Atrain=list()\n",
    "Btrain=list()\n",
    "Atest=list()\n",
    "Btest=list()\n",
    "\n",
    "for i in range(len(train)):\n",
    "    if train[i,-1] == 2:\n",
    "        Atrain.append(train[i])\n",
    "    else :\n",
    "        Btrain.append(train[i])\n",
    "\n",
    "Atrain=np.array(Atrain)\n",
    "Btrain=np.array(Btrain)\n",
    "\n",
    "lA = len(Atrain)\n",
    "lB = len(Btrain)\n",
    "\n",
    "m=Model()\n",
    "w=[]\n",
    "y=[]\n",
    "z=[]\n",
    "\n",
    "r=m.addVar(vtype=GRB.CONTINUOUS, name='r')\n",
    "\n",
    "for i in range(lA):\n",
    "    y.append(m.addVar(vtype=GRB.CONTINUOUS, name=\"y[{}]\".format(i),lb=0))\n",
    "    \n",
    "for i in range(lB):\n",
    "    z.append(m.addVar(vtype=GRB.CONTINUOUS, name=\"z[{}]\".format(i),lb=0))\n",
    "    \n",
    "for i in range(l):\n",
    "    w.append(m.addVar(vtype=GRB.CONTINUOUS, name=\"w[{}]\".format(i),lb=-100,ub=100))\n",
    "\n",
    "m.update()\n",
    "\n",
    "Y=sum(y[i] for i in range(lA))\n",
    "Z=sum(z[i] for i in range(lB))\n",
    "\n",
    "m.setObjective(Y/lA + Z/lB , GRB.MINIMIZE)\n",
    "m.update()\n",
    "\n",
    "for i in range(lA):\n",
    "    m.addConstr(sum(Atrain[i,j]*w[j] for j in range(l))-r+y[i] >=smallnum, name = \"cty[{}]\".format(i))\n",
    "m.update()\n",
    "for i in range(lB):\n",
    "    m.addConstr(sum(Btrain[i,j]*w[j] for j in range(l))-r-z[i] <=-smallnum, name = \"ctz[{}]\".format(i))\n",
    "m.update()\n",
    "\n",
    "m.optimize()\n",
    "\n",
    "for i in range(len(test)):\n",
    "    if test[i,-1]==2:\n",
    "        Atest.append(test[i])\n",
    "    else : \n",
    "        Btest.append(test[i])\n",
    "\n",
    "Atest = np.array(Atest)\n",
    "Btest = np.array(Btest)\n",
    "\n",
    "fail = 0\n",
    "for i in range(len(Atest)):\n",
    "    if(sum(Atest[i,j]*w[j].x for j in range(l))<r.x):\n",
    "        fail +=1\n",
    "\n",
    "for i in range(len(Btest)):\n",
    "    if(sum(Btest[i,j]*w[j].x for j in range(l))>r.x):\n",
    "        fail+=1\n",
    "        \n",
    "success_rate = (len(test)-fail)*100/len(test)\n",
    "print(success_rate)"
   ]
  },
  {
   "cell_type": "code",
   "execution_count": 17,
   "metadata": {},
   "outputs": [
    {
     "name": "stdout",
     "output_type": "stream",
     "text": [
      "Optimize a model with 238 rows, 252 columns and 2791 nonzeros\n",
      "Coefficient statistics:\n",
      "  Matrix range     [1e-01, 6e+02]\n",
      "  Objective range  [5e-03, 4e-02]\n",
      "  Bounds range     [1e+02, 1e+02]\n",
      "  RHS range        [1e-03, 1e-03]\n",
      "Presolve time: 0.01s\n",
      "Presolved: 238 rows, 252 columns, 2791 nonzeros\n",
      "\n",
      "Iteration    Objective       Primal Inf.    Dual Inf.      Time\n",
      "       0    0.0000000e+00   5.199281e+04   0.000000e+00      0s\n",
      "     184    7.8968086e-04   0.000000e+00   0.000000e+00      0s\n",
      "\n",
      "Solved in 184 iterations and 0.03 seconds\n",
      "Optimal objective  7.896808634e-04\n",
      "66.10169491525424\n"
     ]
    }
   ],
   "source": [
    "Atrain=list()\n",
    "Btrain=list()\n",
    "Atest=list()\n",
    "Btest=list()\n",
    "\n",
    "for i in range(len(train)):\n",
    "    if train[i,-1] == 3:\n",
    "        Atrain.append(train[i])\n",
    "    else :\n",
    "        Btrain.append(train[i])\n",
    "\n",
    "Atrain=np.array(Atrain)\n",
    "Btrain=np.array(Btrain)\n",
    "\n",
    "lA = len(Atrain)\n",
    "lB = len(Btrain)\n",
    "\n",
    "m=Model()\n",
    "w=[]\n",
    "y=[]\n",
    "z=[]\n",
    "\n",
    "r=m.addVar(vtype=GRB.CONTINUOUS, name='r')\n",
    "\n",
    "for i in range(lA):\n",
    "    y.append(m.addVar(vtype=GRB.CONTINUOUS, name=\"y[{}]\".format(i),lb=0))\n",
    "    \n",
    "for i in range(lB):\n",
    "    z.append(m.addVar(vtype=GRB.CONTINUOUS, name=\"z[{}]\".format(i),lb=0))\n",
    "    \n",
    "for i in range(l):\n",
    "    w.append(m.addVar(vtype=GRB.CONTINUOUS, name=\"w[{}]\".format(i),lb=-100,ub=100))\n",
    "\n",
    "m.update()\n",
    "\n",
    "Y=sum(y[i] for i in range(lA))\n",
    "Z=sum(z[i] for i in range(lB))\n",
    "\n",
    "m.setObjective(Y/lA + Z/lB , GRB.MINIMIZE)\n",
    "m.update()\n",
    "\n",
    "for i in range(lA):\n",
    "    m.addConstr(sum(Atrain[i,j]*w[j] for j in range(l))-r+y[i] >=smallnum, name = \"cty[{}]\".format(i))\n",
    "m.update()\n",
    "for i in range(lB):\n",
    "    m.addConstr(sum(Btrain[i,j]*w[j] for j in range(l))-r-z[i] <=-smallnum, name = \"ctz[{}]\".format(i))\n",
    "m.update()\n",
    "\n",
    "m.optimize()\n",
    "\n",
    "for i in range(len(test)):\n",
    "    if test[i,-1]==3:\n",
    "        Atest.append(test[i])\n",
    "    else : \n",
    "        Btest.append(test[i])\n",
    "\n",
    "Atest = np.array(Atest)\n",
    "Btest = np.array(Btest)\n",
    "\n",
    "fail = 0\n",
    "for i in range(len(Atest)):\n",
    "    if(sum(Atest[i,j]*w[j].x for j in range(l))<r.x):\n",
    "        fail +=1\n",
    "\n",
    "for i in range(len(Btest)):\n",
    "    if(sum(Btest[i,j]*w[j].x for j in range(l))>r.x):\n",
    "        fail+=1\n",
    "        \n",
    "success_rate = (len(test)-fail)*100/len(test)\n",
    "print(success_rate)"
   ]
  },
  {
   "cell_type": "code",
   "execution_count": 18,
   "metadata": {},
   "outputs": [
    {
     "name": "stdout",
     "output_type": "stream",
     "text": [
      "Optimize a model with 238 rows, 252 columns and 2791 nonzeros\n",
      "Coefficient statistics:\n",
      "  Matrix range     [1e-01, 6e+02]\n",
      "  Objective range  [4e-03, 2e-01]\n",
      "  Bounds range     [1e+02, 1e+02]\n",
      "  RHS range        [1e-03, 1e-03]\n",
      "Presolve removed 0 rows and 1 columns\n",
      "Presolve time: 0.02s\n",
      "Presolved: 238 rows, 251 columns, 2758 nonzeros\n",
      "\n",
      "Iteration    Objective       Primal Inf.    Dual Inf.      Time\n",
      "       0    0.0000000e+00   1.151156e+04   0.000000e+00      0s\n",
      "Extra 2 simplex iterations after uncrush\n",
      "     138    5.1329655e-04   0.000000e+00   0.000000e+00      0s\n",
      "\n",
      "Solved in 138 iterations and 0.04 seconds\n",
      "Optimal objective  5.132965511e-04\n",
      "88.13559322033899\n"
     ]
    }
   ],
   "source": [
    "Atrain=list()\n",
    "Btrain=list()\n",
    "Atest=list()\n",
    "Btest=list()\n",
    "\n",
    "for i in range(len(train)):\n",
    "    if train[i,-1] == 4:\n",
    "        Atrain.append(train[i])\n",
    "    else :\n",
    "        Btrain.append(train[i])\n",
    "\n",
    "Atrain=np.array(Atrain)\n",
    "Btrain=np.array(Btrain)\n",
    "\n",
    "lA = len(Atrain)\n",
    "lB = len(Btrain)\n",
    "\n",
    "m=Model()\n",
    "w=[]\n",
    "y=[]\n",
    "z=[]\n",
    "\n",
    "r=m.addVar(vtype=GRB.CONTINUOUS, name='r')\n",
    "\n",
    "for i in range(lA):\n",
    "    y.append(m.addVar(vtype=GRB.CONTINUOUS, name=\"y[{}]\".format(i),lb=0))\n",
    "    \n",
    "for i in range(lB):\n",
    "    z.append(m.addVar(vtype=GRB.CONTINUOUS, name=\"z[{}]\".format(i),lb=0))\n",
    "    \n",
    "for i in range(l):\n",
    "    w.append(m.addVar(vtype=GRB.CONTINUOUS, name=\"w[{}]\".format(i),lb=-100,ub=100))\n",
    "\n",
    "m.update()\n",
    "\n",
    "Y=sum(y[i] for i in range(lA))\n",
    "Z=sum(z[i] for i in range(lB))\n",
    "\n",
    "m.setObjective(Y/lA + Z/lB , GRB.MINIMIZE)\n",
    "m.update()\n",
    "\n",
    "for i in range(lA):\n",
    "    m.addConstr(sum(Atrain[i,j]*w[j] for j in range(l))-r+y[i] >=smallnum, name = \"cty[{}]\".format(i))\n",
    "m.update()\n",
    "for i in range(lB):\n",
    "    m.addConstr(sum(Btrain[i,j]*w[j] for j in range(l))-r-z[i] <=-smallnum, name = \"ctz[{}]\".format(i))\n",
    "m.update()\n",
    "\n",
    "m.optimize()\n",
    "\n",
    "for i in range(len(test)):\n",
    "    if test[i,-1]==4:\n",
    "        Atest.append(test[i])\n",
    "    else : \n",
    "        Btest.append(test[i])\n",
    "\n",
    "Atest = np.array(Atest)\n",
    "Btest = np.array(Btest)\n",
    "\n",
    "fail = 0\n",
    "for i in range(len(Atest)):\n",
    "    if(sum(Atest[i,j]*w[j].x for j in range(l))<r.x):\n",
    "        fail +=1\n",
    "\n",
    "for i in range(len(Btest)):\n",
    "    if(sum(Btest[i,j]*w[j].x for j in range(l))>r.x):\n",
    "        fail+=1\n",
    "        \n",
    "success_rate = (len(test)-fail)*100/len(test)\n",
    "print(success_rate)"
   ]
  },
  {
   "cell_type": "code",
   "execution_count": null,
   "metadata": {},
   "outputs": [],
   "source": []
  }
 ],
 "metadata": {
  "kernelspec": {
   "display_name": "Python 3",
   "language": "python",
   "name": "python3"
  },
  "language_info": {
   "codemirror_mode": {
    "name": "ipython",
    "version": 3
   },
   "file_extension": ".py",
   "mimetype": "text/x-python",
   "name": "python",
   "nbconvert_exporter": "python",
   "pygments_lexer": "ipython3",
   "version": "3.6.4"
  }
 },
 "nbformat": 4,
 "nbformat_minor": 2
}
