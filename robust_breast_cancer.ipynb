{
 "cells": [
  {
   "cell_type": "code",
   "execution_count": 1,
   "metadata": {},
   "outputs": [],
   "source": [
    "import numpy as np\n",
    "from gurobipy import *\n",
    "import random\n",
    "import matplotlib.pyplot as plt\n",
    "import csv"
   ]
  },
  {
   "cell_type": "code",
   "execution_count": 2,
   "metadata": {},
   "outputs": [],
   "source": [
    "data=[]\n",
    "\n",
    "data = np.loadtxt('C:/Users/user/test/data/breast-cancer-wisconsin.data',delimiter=',',dtype=str)"
   ]
  },
  {
   "cell_type": "code",
   "execution_count": 3,
   "metadata": {},
   "outputs": [],
   "source": [
    "data=data[:,1:]"
   ]
  },
  {
   "cell_type": "code",
   "execution_count": 4,
   "metadata": {},
   "outputs": [
    {
     "data": {
      "text/plain": [
       "array([['5', '1', '1', ..., '1', '1', '2'],\n",
       "       ['5', '4', '4', ..., '2', '1', '2'],\n",
       "       ['3', '1', '1', ..., '1', '1', '2'],\n",
       "       ...,\n",
       "       ['5', '10', '10', ..., '10', '2', '4'],\n",
       "       ['4', '8', '6', ..., '6', '1', '4'],\n",
       "       ['4', '8', '8', ..., '4', '1', '4']], dtype='<U8')"
      ]
     },
     "execution_count": 4,
     "metadata": {},
     "output_type": "execute_result"
    }
   ],
   "source": [
    "data"
   ]
  },
  {
   "cell_type": "code",
   "execution_count": 5,
   "metadata": {},
   "outputs": [],
   "source": [
    "L=len(data)\n",
    "l=len(data[0])-1\n",
    "cn = len(np.unique(list(zip(*data))[l]))"
   ]
  },
  {
   "cell_type": "code",
   "execution_count": 6,
   "metadata": {},
   "outputs": [],
   "source": [
    "x=[]\n",
    "for i in range(L):\n",
    "    x.append(i)\n",
    "    for j in range(l):\n",
    "        if data[i,j]=='?':\n",
    "            x.remove(i)\n",
    "data = data[x]\n",
    "data = data.astype('float64')"
   ]
  },
  {
   "cell_type": "code",
   "execution_count": 7,
   "metadata": {},
   "outputs": [],
   "source": [
    "ci=2 # class identifier\n",
    "smallnum=1.e-3\n",
    "bignum=1.e+3"
   ]
  },
  {
   "cell_type": "code",
   "execution_count": 8,
   "metadata": {},
   "outputs": [],
   "source": [
    "L=len(data)\n",
    "l = len(data[0])-1\n",
    "#data1 = np.c_[data,np.zeros(L)]\n",
    "\n",
    "np.random.shuffle(data)"
   ]
  },
  {
   "cell_type": "code",
   "execution_count": 9,
   "metadata": {},
   "outputs": [],
   "source": [
    "train=data[:int((len(data)+1)*.80)]\n",
    "test=data[int(len(data)*.80+1):]"
   ]
  },
  {
   "cell_type": "code",
   "execution_count": 10,
   "metadata": {},
   "outputs": [
    {
     "data": {
      "text/plain": [
       "547"
      ]
     },
     "execution_count": 10,
     "metadata": {},
     "output_type": "execute_result"
    }
   ],
   "source": [
    "len(train)"
   ]
  },
  {
   "cell_type": "code",
   "execution_count": 11,
   "metadata": {},
   "outputs": [
    {
     "data": {
      "text/plain": [
       "136"
      ]
     },
     "execution_count": 11,
     "metadata": {},
     "output_type": "execute_result"
    }
   ],
   "source": [
    "len(test)"
   ]
  },
  {
   "cell_type": "code",
   "execution_count": 12,
   "metadata": {},
   "outputs": [
    {
     "data": {
      "text/plain": [
       "683"
      ]
     },
     "execution_count": 12,
     "metadata": {},
     "output_type": "execute_result"
    }
   ],
   "source": [
    "len(data)"
   ]
  },
  {
   "cell_type": "code",
   "execution_count": 13,
   "metadata": {},
   "outputs": [],
   "source": [
    "Atrain=list()\n",
    "Btrain=list()\n",
    "Atest=list()\n",
    "Btest=list()"
   ]
  },
  {
   "cell_type": "code",
   "execution_count": 14,
   "metadata": {},
   "outputs": [],
   "source": [
    "for i in range(len(train)):\n",
    "    if train[i,-1] == 2:\n",
    "        Atrain.append(train[i])\n",
    "    else : \n",
    "        Btrain.append(train[i])\n",
    "\n",
    "Atrain=np.array(Atrain)\n",
    "Btrain=np.array(Btrain)\n",
    "\n",
    "lA = len(Atrain)\n",
    "lB = len(Btrain)"
   ]
  },
  {
   "cell_type": "code",
   "execution_count": 15,
   "metadata": {},
   "outputs": [
    {
     "data": {
      "text/plain": [
       "356"
      ]
     },
     "execution_count": 15,
     "metadata": {},
     "output_type": "execute_result"
    }
   ],
   "source": [
    "lA"
   ]
  },
  {
   "cell_type": "code",
   "execution_count": 16,
   "metadata": {},
   "outputs": [
    {
     "name": "stdout",
     "output_type": "stream",
     "text": [
      "Academic license - for non-commercial use only\n"
     ]
    }
   ],
   "source": [
    "m=Model()\n",
    "w=[]\n",
    "y=[]\n",
    "z=[]"
   ]
  },
  {
   "cell_type": "code",
   "execution_count": 17,
   "metadata": {},
   "outputs": [],
   "source": [
    "r=m.addVar(vtype=GRB.CONTINUOUS, name='r')\n",
    "\n",
    "for i in range(lA):\n",
    "    y.append(m.addVar(vtype=GRB.CONTINUOUS, name=\"y[{}]\".format(i),lb=0))\n",
    "    \n",
    "for i in range(lB):\n",
    "    z.append(m.addVar(vtype=GRB.CONTINUOUS, name=\"z[{}]\".format(i),lb=0))\n",
    "    \n",
    "for i in range(l):\n",
    "    w.append(m.addVar(vtype=GRB.CONTINUOUS, name=\"w[{}]\".format(i),lb=-100,ub=100))\n",
    "\n",
    "m.update()"
   ]
  },
  {
   "cell_type": "code",
   "execution_count": 18,
   "metadata": {},
   "outputs": [],
   "source": [
    "Y=sum(y[i] for i in range(lA))\n",
    "Z=sum(z[i] for i in range(lB))\n",
    "\n",
    "m.setObjective(Y/lA + Z/lB , GRB.MINIMIZE)\n",
    "m.update()"
   ]
  },
  {
   "cell_type": "code",
   "execution_count": 19,
   "metadata": {},
   "outputs": [
    {
     "data": {
      "text/plain": [
       "[<gurobi.Var w[0]>,\n",
       " <gurobi.Var w[1]>,\n",
       " <gurobi.Var w[2]>,\n",
       " <gurobi.Var w[3]>,\n",
       " <gurobi.Var w[4]>,\n",
       " <gurobi.Var w[5]>,\n",
       " <gurobi.Var w[6]>,\n",
       " <gurobi.Var w[7]>,\n",
       " <gurobi.Var w[8]>]"
      ]
     },
     "execution_count": 19,
     "metadata": {},
     "output_type": "execute_result"
    }
   ],
   "source": [
    "w"
   ]
  },
  {
   "cell_type": "code",
   "execution_count": 20,
   "metadata": {},
   "outputs": [
    {
     "name": "stdout",
     "output_type": "stream",
     "text": [
      "Optimize a model with 547 rows, 557 columns and 6017 nonzeros\n",
      "Coefficient statistics:\n",
      "  Matrix range     [1e+00, 1e+01]\n",
      "  Objective range  [3e-03, 5e-03]\n",
      "  Bounds range     [1e+02, 1e+02]\n",
      "  RHS range        [1e-03, 1e-03]\n",
      "Presolve time: 0.01s\n",
      "Presolved: 547 rows, 557 columns, 6017 nonzeros\n",
      "\n",
      "Iteration    Objective       Primal Inf.    Dual Inf.      Time\n",
      "       0    0.0000000e+00   7.467505e+04   0.000000e+00      0s\n",
      "     315    7.0571331e-04   0.000000e+00   0.000000e+00      0s\n",
      "\n",
      "Solved in 315 iterations and 0.04 seconds\n",
      "Optimal objective  7.057133058e-04\n"
     ]
    }
   ],
   "source": [
    "for i in range(lA):\n",
    "    m.addConstr(sum(Atrain[i,j]*w[j] for j in range(l))-r+y[i] >=smallnum, name = \"cty[{}]\".format(i))\n",
    "m.update()\n",
    "for i in range(lB):\n",
    "    m.addConstr(sum(Btrain[i,j]*w[j] for j in range(l))-r-z[i] <=-smallnum, name = \"ctz[{}]\".format(i))\n",
    "m.update()\n",
    "\n",
    "m.optimize()"
   ]
  },
  {
   "cell_type": "code",
   "execution_count": 21,
   "metadata": {},
   "outputs": [],
   "source": [
    "for i in range(len(test)):\n",
    "    if test[i,-1]==2:\n",
    "        Atest.append(test[i])\n",
    "    else : \n",
    "        Btest.append(test[i])\n",
    "\n",
    "Atest = np.array(Atest)\n",
    "Btest = np.array(Btest)\n",
    "\n",
    "fail = 0\n",
    "faila=0\n",
    "failb=0\n",
    "for i in range(len(Atest)):\n",
    "    if(sum(Atest[i,j]*w[j].x for j in range(l))<r.x):\n",
    "        fail +=1\n",
    "        faila+=1\n",
    "\n",
    "for i in range(len(Btest)):\n",
    "    if(sum(Btest[i,j]*w[j].x for j in range(l))>r.x):\n",
    "        fail+=1\n",
    "        failb+=1"
   ]
  },
  {
   "cell_type": "code",
   "execution_count": 22,
   "metadata": {},
   "outputs": [
    {
     "data": {
      "text/plain": [
       "88"
      ]
     },
     "execution_count": 22,
     "metadata": {},
     "output_type": "execute_result"
    }
   ],
   "source": [
    "len(Atest)"
   ]
  },
  {
   "cell_type": "code",
   "execution_count": 23,
   "metadata": {},
   "outputs": [
    {
     "data": {
      "text/plain": [
       "15"
      ]
     },
     "execution_count": 23,
     "metadata": {},
     "output_type": "execute_result"
    }
   ],
   "source": [
    "faila"
   ]
  },
  {
   "cell_type": "code",
   "execution_count": 24,
   "metadata": {},
   "outputs": [
    {
     "name": "stdout",
     "output_type": "stream",
     "text": [
      "86.02941176470588\n"
     ]
    }
   ],
   "source": [
    "success_rate = (len(test)-fail)*100/len(test)\n",
    "print(success_rate)"
   ]
  },
  {
   "cell_type": "code",
   "execution_count": 25,
   "metadata": {},
   "outputs": [
    {
     "data": {
      "image/png": "[encoded data removed]",
      "text/plain": [
       "<matplotlib.figure.Figure at 0xe4631d0>"
      ]
     },
     "metadata": {},
     "output_type": "display_data"
    }
   ],
   "source": [
    "plt.figure()\n",
    "\n",
    "for i in range(lA):\n",
    "    if Atrain[i][-1]==2:\n",
    "        plt.plot(Atrain[i][0],Atrain[i][1], 'bx')\n",
    "        \n",
    "for i in range(lB):\n",
    "    if Btrain[i][-1]==4:\n",
    "        plt.plot(Btrain[i][0],Btrain[i][1],'ro')\n",
    "\n",
    "X= np.linspace(0,10,200)\n",
    "\n",
    "plt.plot(X,-w[0].x/w[1].x*X+r.x/w[1].x)\n",
    "\n",
    "plt.show()"
   ]
  },
  {
   "cell_type": "code",
   "execution_count": null,
   "metadata": {},
   "outputs": [],
   "source": []
  }
 ],
 "metadata": {
  "kernelspec": {
   "display_name": "Python 3",
   "language": "python",
   "name": "python3"
  },
  "language_info": {
   "codemirror_mode": {
    "name": "ipython",
    "version": 3
   },
   "file_extension": ".py",
   "mimetype": "text/x-python",
   "name": "python",
   "nbconvert_exporter": "python",
   "pygments_lexer": "ipython3",
   "version": "3.6.4"
  }
 },
 "nbformat": 4,
 "nbformat_minor": 2
}
